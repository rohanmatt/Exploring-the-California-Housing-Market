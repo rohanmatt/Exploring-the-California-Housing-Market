{
 "cells": [
  {
   "cell_type": "code",
   "execution_count": null,
   "metadata": {},
   "outputs": [],
   "source": [
    "import pandas as pd\n",
    "import matplotlib.pyplot as plt\n",
    "import seaborn as sns\n",
    "from sklearn.datasets import fetch_california_housing\n",
    "\n",
    "# Load the dataset\n",
    "california_housing = fetch_california_housing()\n",
    "housing_data = pd.DataFrame(california_housing.data, columns=california_housing.feature_names)\n",
    "housing_data['target'] = california_housing.target  # Add the target variable (median house value)\n",
    "\n",
    "# Exploratory Data Analysis (EDA)\n",
    "print(housing_data.head())  # Preview the first few rows\n",
    "print(housing_data.info())  # Get information about the dataset\n",
    "print(housing_data.describe())  # Get summary statistics\n",
    "\n",
    "# Visualizations\n",
    "# Scatter plot: Median House Value vs. Median Income\n",
    "plt.figure(figsize=(10, 6))\n",
    "sns.scatterplot(x='MedInc', y='target', data=housing_data)\n",
    "plt.title('Median House Value vs. Median Income')\n",
    "plt.xlabel('Median Income')\n",
    "plt.ylabel('Median House Value')\n",
    "plt.show()\n",
    "\n",
    "# Pair plot: Explore relationships between numeric features\n",
    "sns.pairplot(housing_data)\n",
    "plt.show()\n",
    "\n",
    "# Box plot: Median House Value by House Age\n",
    "plt.figure(figsize=(10, 6))\n",
    "sns.boxplot(x='HouseAge', y='target', data=housing_data)\n",
    "plt.title('Median House Value by House Age')\n",
    "plt.xlabel('House Age')\n",
    "plt.ylabel('Median House Value')\n",
    "plt.show()\n",
    "\n",
    "# Heatmap: Correlation between numeric features\n",
    "numeric_features = housing_data.select_dtypes(include=[float, int]).columns\n",
    "corr_matrix = housing_data[numeric_features].corr()\n",
    "plt.figure(figsize=(10, 8))\n",
    "sns.heatmap(corr_matrix, annot=True, cmap='coolwarm')\n",
    "plt.title('Correlation Matrix')\n",
    "plt.show()\n",
    "\n",
    "# Statistical summary\n",
    "print('Summary Statistics:')\n",
    "print(housing_data.describe())"
   ]
  }
 ],
 "metadata": {
  "language_info": {
   "name": "python"
  }
 },
 "nbformat": 4,
 "nbformat_minor": 2
}
